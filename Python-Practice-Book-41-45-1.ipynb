{
 "cells": [
  {
   "cell_type": "code",
   "execution_count": 1,
   "metadata": {},
   "outputs": [
    {
     "name": "stdout",
     "output_type": "stream",
     "text": [
      "untitled2.txt 25\n",
      "I'm sure that the shells\n",
      "are seashore shells.\n",
      "So if she sells seashells\n",
      "on the seashore,\n",
      "The shells that she sells\n",
      "are seashells I'm sure.\n",
      "She sells seashells on\n",
      "the seashore;\n"
     ]
    }
   ],
   "source": [
    "# Problem 41\n",
    "\n",
    "import textwrap \n",
    "file, size = [i for i in input().split()]\n",
    "for line in open(file):\n",
    "     [print(n) for n in textwrap.wrap(line,width = int(size))]"
   ]
  },
  {
   "cell_type": "code",
   "execution_count": 2,
   "metadata": {},
   "outputs": [
    {
     "name": "stdout",
     "output_type": "stream",
     "text": [
      "untitled2.txt\n",
      "  I'm sure that the shells are seashore shells.   \n",
      "    So if she sells seashells on the seashore,    \n",
      "The shells that she sells are seashells I'm sure. \n",
      "       She sells seashells on the seashore;       \n"
     ]
    }
   ],
   "source": [
    "# Problem 42\n",
    "\n",
    "lines = open(input()).readlines()\n",
    "for line in lines:\n",
    "    print(line.strip().center(len(max(lines))))"
   ]
  },
  {
   "cell_type": "code",
   "execution_count": 3,
   "metadata": {},
   "outputs": [],
   "source": [
    "# Problem 43\n",
    "\n",
    "def zip(arr1,arr2):\n",
    "        arr = []\n",
    "        [arr.append((arr1[i],arr2[i])) for i in range(len(arr1))]\n",
    "        return arr"
   ]
  },
  {
   "cell_type": "code",
   "execution_count": 4,
   "metadata": {},
   "outputs": [
    {
     "data": {
      "text/plain": [
       "[(1, 'a'), (2, 'b'), (3, 'c')]"
      ]
     },
     "execution_count": 4,
     "metadata": {},
     "output_type": "execute_result"
    }
   ],
   "source": [
    "zip([1,2,3] , [\"a\",\"b\",\"c\"])"
   ]
  },
  {
   "cell_type": "code",
   "execution_count": 5,
   "metadata": {},
   "outputs": [],
   "source": [
    "# Problem 44\n",
    "\n",
    "\n",
    "def square (x) : return x * x\n",
    "\n",
    "\n",
    "def map ( function, arr):\n",
    "      return [function(i) for i in arr]"
   ]
  },
  {
   "cell_type": "code",
   "execution_count": 6,
   "metadata": {},
   "outputs": [
    {
     "data": {
      "text/plain": [
       "[0, 1, 4, 9, 16]"
      ]
     },
     "execution_count": 6,
     "metadata": {},
     "output_type": "execute_result"
    }
   ],
   "source": [
    "map(square, range(5))"
   ]
  },
  {
   "cell_type": "code",
   "execution_count": 7,
   "metadata": {},
   "outputs": [],
   "source": [
    "# Problem 45\n",
    "\n",
    "def even(x) : return x%2 == 0\n",
    "\n",
    "def filter(f , a):\n",
    "      return [ i for i in a if f(i)]"
   ]
  },
  {
   "cell_type": "code",
   "execution_count": 8,
   "metadata": {},
   "outputs": [
    {
     "data": {
      "text/plain": [
       "[0, 2, 4, 6, 8]"
      ]
     },
     "execution_count": 8,
     "metadata": {},
     "output_type": "execute_result"
    }
   ],
   "source": [
    "filter(even,range(10))"
   ]
  },
  {
   "cell_type": "code",
   "execution_count": null,
   "metadata": {},
   "outputs": [],
   "source": []
  }
 ],
 "metadata": {
  "kernelspec": {
   "display_name": "Python 3",
   "language": "python",
   "name": "python3"
  },
  "language_info": {
   "codemirror_mode": {
    "name": "ipython",
    "version": 3
   },
   "file_extension": ".py",
   "mimetype": "text/x-python",
   "name": "python",
   "nbconvert_exporter": "python",
   "pygments_lexer": "ipython3",
   "version": "3.6.11"
  }
 },
 "nbformat": 4,
 "nbformat_minor": 4
}
