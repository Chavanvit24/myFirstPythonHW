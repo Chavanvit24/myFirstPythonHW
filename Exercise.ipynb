{
 "cells": [
  {
   "cell_type": "markdown",
   "metadata": {},
   "source": [
    "Problem 1"
   ]
  },
  {
   "cell_type": "code",
   "execution_count": 1,
   "metadata": {},
   "outputs": [],
   "source": [
    "listOne = [3,6,9,12,15,18,21]\n",
    "listTwo = [4,8,12,16,20,24,28]"
   ]
  },
  {
   "cell_type": "code",
   "execution_count": 4,
   "metadata": {},
   "outputs": [
    {
     "name": "stdout",
     "output_type": "stream",
     "text": [
      "[6, 12, 18]\n"
     ]
    }
   ],
   "source": [
    "print(listOne[1:6:2])"
   ]
  },
  {
   "cell_type": "code",
   "execution_count": 3,
   "metadata": {},
   "outputs": [
    {
     "name": "stdout",
     "output_type": "stream",
     "text": [
      "[4, 12, 20, 28]\n"
     ]
    }
   ],
   "source": [
    "print(listTwo[0:8:2])"
   ]
  },
  {
   "cell_type": "code",
   "execution_count": 6,
   "metadata": {},
   "outputs": [
    {
     "name": "stdout",
     "output_type": "stream",
     "text": [
      "[6, 12, 18, 4, 12, 20, 28]\n"
     ]
    }
   ],
   "source": [
    "print(listOne[1:6:2]+listTwo[0:8:2])"
   ]
  },
  {
   "cell_type": "markdown",
   "metadata": {},
   "source": [
    "Problem2"
   ]
  },
  {
   "cell_type": "code",
   "execution_count": 7,
   "metadata": {},
   "outputs": [],
   "source": [
    "#List = [54,44,27,79,91,42]"
   ]
  },
  {
   "cell_type": "code",
   "execution_count": 8,
   "metadata": {},
   "outputs": [
    {
     "name": "stdout",
     "output_type": "stream",
     "text": [
      "[34, 54, 11, 67, 89, 43, 94, 11]\n"
     ]
    }
   ],
   "source": [
    "Originals_list = [34,54,67,89,11,43,94]\n",
    "Originals_list.pop(4)\n",
    "Originals_list.insert(2,11)\n",
    "Originals_list.append(11)\n",
    "print(Originals_list)"
   ]
  },
  {
   "cell_type": "raw",
   "metadata": {},
   "source": [
    "Problem3"
   ]
  },
  {
   "cell_type": "code",
   "execution_count": 9,
   "metadata": {},
   "outputs": [
    {
     "name": "stdout",
     "output_type": "stream",
     "text": [
      "[8, 45, 11]\n",
      "[12, 14, 23]\n",
      "[89, 45, 78]\n"
     ]
    }
   ],
   "source": [
    "Originals_list1 = [11,45,8,23,14,12,78,45,89]\n",
    "x = Originals_list1[0:3]\n",
    "x.reverse()\n",
    "print(x)\n",
    "z = Originals_list1[3:6]\n",
    "z.reverse()\n",
    "print(z)\n",
    "k = Originals_list1[6:9]\n",
    "k.reverse()\n",
    "print(k)"
   ]
  },
  {
   "cell_type": "markdown",
   "metadata": {},
   "source": [
    "Problem4"
   ]
  },
  {
   "cell_type": "code",
   "execution_count": 11,
   "metadata": {},
   "outputs": [
    {
     "name": "stdout",
     "output_type": "stream",
     "text": [
      "11 มีทั้งหมด \n",
      " > 2 ตัว\n",
      "45 มีทั้งหมด \n",
      " > 3 ตัว\n",
      "8 มีทั้งหมด \n",
      " > 1 ตัว\n",
      "23 มีทั้งหมด \n",
      " > 2 ตัว\n",
      "89 มีทั้งหมด \n",
      " > 1 ตัว\n"
     ]
    }
   ],
   "source": [
    "Originals_list2=[11,45,8,11,23,45,23,45,89]\n",
    "z = Originals_list2.count(11)\n",
    "print(\"11 มีทั้งหมด \\n >\",z,\"ตัว\")\n",
    "x = Originals_list2.count(45)\n",
    "print(\"45 มีทั้งหมด \\n >\",x,\"ตัว\")\n",
    "a = Originals_list2.count(8)\n",
    "print(\"8 มีทั้งหมด \\n >\",a,\"ตัว\")\n",
    "b = Originals_list2.count(23)\n",
    "print(\"23 มีทั้งหมด \\n >\",b,\"ตัว\")\n",
    "c = Originals_list2.count(89)\n",
    "print(\"89 มีทั้งหมด \\n >\",c,\"ตัว\")"
   ]
  },
  {
   "cell_type": "code",
   "execution_count": 13,
   "metadata": {},
   "outputs": [
    {
     "name": "stdout",
     "output_type": "stream",
     "text": [
      "{'11': 2, '45': 3, '8': 1, '23': 2, '89': 1}\n"
     ]
    }
   ],
   "source": [
    "dict_a={\n",
    "\"11\":z,\n",
    "\"45\":x,\n",
    "\"8\":a,\n",
    "\"23\":b,\n",
    "\"89\":c,\n",
    "}\n",
    "print(dict_a)"
   ]
  },
  {
   "cell_type": "markdown",
   "metadata": {},
   "source": [
    "Problem5"
   ]
  },
  {
   "cell_type": "code",
   "execution_count": 15,
   "metadata": {},
   "outputs": [
    {
     "name": "stdout",
     "output_type": "stream",
     "text": [
      "[2, 3, 4, 5, 6, 7, 8]\n",
      "[4, 9, 16, 25, 36, 49, 64]\n",
      "{(6, 36), (8, 64), (4, 16), (5, 25), (3, 9), (7, 49), (2, 4)}\n"
     ]
    }
   ],
   "source": [
    "First_list=([2,3,4,5,6,7,8])\n",
    "Second_list = ([4,9,16,25,36,49,64])\n",
    "Result = {(6,36),(8,64),(4,16),(5,25),(3,9),(7,49),(2,4),}\n",
    "print(First_list)\n",
    "print(Second_list)\n",
    "print(Result)"
   ]
  },
  {
   "cell_type": "code",
   "execution_count": null,
   "metadata": {},
   "outputs": [],
   "source": []
  }
 ],
 "metadata": {
  "kernelspec": {
   "display_name": "Python 3",
   "language": "python",
   "name": "python3"
  },
  "language_info": {
   "codemirror_mode": {
    "name": "ipython",
    "version": 3
   },
   "file_extension": ".py",
   "mimetype": "text/x-python",
   "name": "python",
   "nbconvert_exporter": "python",
   "pygments_lexer": "ipython3",
   "version": "3.7.0"
  }
 },
 "nbformat": 4,
 "nbformat_minor": 2
}
