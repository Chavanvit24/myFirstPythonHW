{
 "cells": [
  {
   "cell_type": "code",
   "execution_count": 1,
   "metadata": {},
   "outputs": [
    {
     "name": "stdout",
     "output_type": "stream",
     "text": [
      "6\n"
     ]
    }
   ],
   "source": [
    "# Problem 21\n",
    "\n",
    "a = [1,2,3]\n",
    "def sum(a):\n",
    "       sum = 0\n",
    "       for i in a :\n",
    "             sum += i\n",
    "       return(sum)\n",
    "print(sum(a))"
   ]
  },
  {
   "cell_type": "code",
   "execution_count": 2,
   "metadata": {},
   "outputs": [
    {
     "name": "stdout",
     "output_type": "stream",
     "text": [
      "helloworld\n",
      "aabbcc\n"
     ]
    }
   ],
   "source": [
    "# Problem 22\n",
    "\n",
    "a = [\"hello\" , \"world\"]\n",
    "b = [\"aa\" , \"bb\" , \"cc\"]\n",
    "c = a[0]\n",
    "d = b[0]\n",
    "i = 0\n",
    "for i in range (1,len(a)) :\n",
    "     c += a[i]\n",
    "for j in range (1 , len(b)) :\n",
    "     d += b[j]\n",
    "print(c)\n",
    "print(d)"
   ]
  },
  {
   "cell_type": "code",
   "execution_count": 3,
   "metadata": {},
   "outputs": [
    {
     "name": "stdout",
     "output_type": "stream",
     "text": [
      "6\n"
     ]
    }
   ],
   "source": [
    "# Problem 23\n",
    "\n",
    "a = [1,2,3]\n",
    "def product(a) :\n",
    "      product = 1\n",
    "      for i in a :\n",
    "             product *= i\n",
    "      return(product)\n",
    "producta = product(a)\n",
    "print(producta)"
   ]
  },
  {
   "cell_type": "code",
   "execution_count": 4,
   "metadata": {},
   "outputs": [
    {
     "name": "stdout",
     "output_type": "stream",
     "text": [
      "1\n",
      "2\n",
      "3\n",
      "4\n"
     ]
    },
    {
     "data": {
      "text/plain": [
       "1"
      ]
     },
     "execution_count": 4,
     "metadata": {},
     "output_type": "execute_result"
    }
   ],
   "source": [
    "# Problem 24\n",
    "\n",
    "def fac(a) :\n",
    "      if a < 0 :\n",
    "            print(\"ERROR\")\n",
    "            return(-1)\n",
    "      elif a == 0 :\n",
    "            return(1)\n",
    "      else :\n",
    "               j = 1\n",
    "               for i in range(1, a +1) :\n",
    "                     print(i)\n",
    "                     j *= 1\n",
    "               return(j)\n",
    "fac(4)"
   ]
  },
  {
   "cell_type": "code",
   "execution_count": 5,
   "metadata": {},
   "outputs": [
    {
     "data": {
      "text/plain": [
       "24"
      ]
     },
     "execution_count": 5,
     "metadata": {},
     "output_type": "execute_result"
    }
   ],
   "source": [
    "# 24\n",
    "def fac(a) :\n",
    "    \n",
    "      return(product(list(range(1,a+1)))) \n",
    "fac(4)"
   ]
  },
  {
   "cell_type": "code",
   "execution_count": 6,
   "metadata": {},
   "outputs": [
    {
     "data": {
      "text/plain": [
       "[4, 3, 2, 1]"
      ]
     },
     "execution_count": 6,
     "metadata": {},
     "output_type": "execute_result"
    }
   ],
   "source": [
    "# Problem 25\n",
    "\n",
    "list1 =[1,2,3,4]\n",
    "def reverse(list1) :\n",
    "      listAB = len(list1) - 1\n",
    "      listBE = []\n",
    "      for i in range(len(list1)) :\n",
    "            listBE.append(list1[listAB-i])\n",
    "      return(listBE)\n",
    "reverse(list1)\n",
    "\n",
    "#def reverse(l) :\n",
    "#     return(l) :\n",
    "\n",
    "# reverse([1,2,3,4])"
   ]
  },
  {
   "cell_type": "code",
   "execution_count": null,
   "metadata": {},
   "outputs": [],
   "source": []
  }
 ],
 "metadata": {
  "kernelspec": {
   "display_name": "Python 3",
   "language": "python",
   "name": "python3"
  },
  "language_info": {
   "codemirror_mode": {
    "name": "ipython",
    "version": 3
   },
   "file_extension": ".py",
   "mimetype": "text/x-python",
   "name": "python",
   "nbconvert_exporter": "python",
   "pygments_lexer": "ipython3",
   "version": "3.6.11"
  }
 },
 "nbformat": 4,
 "nbformat_minor": 4
}
